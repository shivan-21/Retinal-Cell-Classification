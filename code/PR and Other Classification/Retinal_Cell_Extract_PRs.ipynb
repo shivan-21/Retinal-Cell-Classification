{
  "nbformat": 4,
  "nbformat_minor": 0,
  "metadata": {
    "colab": {
      "provenance": []
    },
    "kernelspec": {
      "name": "python3",
      "display_name": "Python 3"
    },
    "language_info": {
      "name": "python"
    }
  },
  "cells": [
    {
      "cell_type": "code",
      "execution_count": null,
      "metadata": {
        "colab": {
          "base_uri": "https://localhost:8080/"
        },
        "id": "kc5YnLiUsZK_",
        "outputId": "c40fde9c-9b0a-4927-dc5c-a5855dafcc83"
      },
      "outputs": [
        {
          "output_type": "stream",
          "name": "stdout",
          "text": [
            "Files in folder:\n",
            "   extracted_prs\n",
            "\n",
            "Found 0 image(s) ending in .png:\n",
            "\n",
            "Done — total cells saved: 0\n"
          ]
        }
      ],
      "source": [
        "import os\n",
        "import numpy as np\n",
        "from skimage import io, segmentation\n",
        "from PIL import Image\n",
        "\n",
        "# ─── USER PARAMETERS ────────────────────────────────────────────────────────────\n",
        "BASE_DIR      = '/content/drive/MyDrive/biotech/Retina_Lab/Image_data/cropped_prs'\n",
        "OUT_DIR       = os.path.join(BASE_DIR, 'extracted_prs')\n",
        "IMAGE_EXT     = '.png'\n",
        "SEG_EXT       = '.npy'\n",
        "NAME_TEMPLATE = 'pr_{:03d}.png' # define the naming template\n",
        "OVERLAY_TMPL  = '{}_overlay.png'\n",
        "# ────────────────────────────────────────────────────────────────────────────────\n",
        "\n",
        "os.makedirs(OUT_DIR, exist_ok=True)\n",
        "\n",
        "# 1) List what we actually see\n",
        "all_files = sorted(os.listdir(BASE_DIR))\n",
        "print(\"Files in folder:\")\n",
        "for f in all_files:\n",
        "    print(\"  \", f)\n",
        "print()\n",
        "\n",
        "# 2) Pick out the images\n",
        "images = [f for f in all_files if f.endswith(IMAGE_EXT)]\n",
        "print(f\"Found {len(images)} image(s) ending in {IMAGE_EXT}:\")\n",
        "for im in images:\n",
        "    print(\"  \", im)\n",
        "print()\n",
        "\n",
        "cell_counter = 0\n",
        "\n",
        "for img_fname in images:\n",
        "    base, _ = os.path.splitext(img_fname)\n",
        "    img_path = os.path.join(BASE_DIR, img_fname)\n",
        "    seg_path = os.path.join(BASE_DIR, base + SEG_EXT)\n",
        "\n",
        "    # 3) Check for matching .npy\n",
        "    if not os.path.isfile(seg_path):\n",
        "        print(f\"Skipping {img_fname}: no matching {SEG_EXT} found at {seg_path}\")\n",
        "        continue\n",
        "    print(f\"Processing {img_fname} with {os.path.basename(seg_path)}\")\n",
        "\n",
        "    # 4) Load and inspect the .npy\n",
        "    raw = np.load(seg_path, allow_pickle=True)\n",
        "    if isinstance(raw, np.ndarray) and raw.dtype == 'object':\n",
        "        data = raw.item()\n",
        "    else:\n",
        "        data = raw\n",
        "    print(\"  raw type:\", type(raw))\n",
        "    if hasattr(raw, 'files'):\n",
        "        print(\"  npz keys:\", raw.files)\n",
        "    if isinstance(data, dict):\n",
        "        print(\"  dict keys:\", list(data.keys()))\n",
        "    masks = data.get('masks', None)\n",
        "    if masks is None:\n",
        "        raise KeyError(f\"Could not find key 'masks' in {seg_path}\")\n",
        "\n",
        "    unique = np.unique(masks)\n",
        "    print(\"  unique labels in mask:\", unique if unique.size <= 10 else unique[:10], \"...\")\n",
        "\n",
        "    # 5) Save overlay\n",
        "    img = io.imread(img_path)\n",
        "    overlay = segmentation.mark_boundaries(img, masks, color=(1, 0, 0))\n",
        "    over_name = OVERLAY_TMPL.format(base)\n",
        "    over_path = os.path.join(OUT_DIR, over_name)\n",
        "    io.imsave(over_path, (overlay * 255).astype('uint8'))\n",
        "    print(f\"  wrote overlay -> {over_name}\")\n",
        "\n",
        "    # 6) Extract cells\n",
        "    for lab in unique:\n",
        "        if lab == 0:\n",
        "            continue\n",
        "        cell_counter += 1\n",
        "        m = masks == lab\n",
        "        ys, xs = np.where(m)\n",
        "        y0, x0 = ys.min(), xs.min()\n",
        "        y1, x1 = ys.max() + 1, xs.max() + 1\n",
        "\n",
        "        patch = img[y0:y1, x0:x1].copy()\n",
        "        m_crop = m[y0:y1, x0:x1]\n",
        "        if patch.ndim == 3:\n",
        "            patch[~m_crop] = 0\n",
        "        else:\n",
        "            patch = patch * m_crop\n",
        "\n",
        "        out_name = NAME_TEMPLATE.format(cell_counter)\n",
        "        Image.fromarray(patch).save(os.path.join(OUT_DIR, out_name))\n",
        "\n",
        "    print(f\"  extracted {len(unique) - 1} cells from this image\\n\")\n",
        "\n",
        "print(f\"Done — total cells saved: {cell_counter}\")\n"
      ]
    },
    {
      "cell_type": "code",
      "source": [],
      "metadata": {
        "id": "JgmLMAwytMe_"
      },
      "execution_count": null,
      "outputs": []
    },
    {
      "cell_type": "code",
      "source": [],
      "metadata": {
        "id": "bMSYqrr4u2dA"
      },
      "execution_count": null,
      "outputs": []
    },
    {
      "cell_type": "code",
      "source": [],
      "metadata": {
        "id": "MrNJvpQ7u8wA"
      },
      "execution_count": null,
      "outputs": []
    }
  ]
}