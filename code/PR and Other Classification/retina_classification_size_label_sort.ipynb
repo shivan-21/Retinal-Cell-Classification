{
  "nbformat": 4,
  "nbformat_minor": 0,
  "metadata": {
    "colab": {
      "provenance": []
    },
    "kernelspec": {
      "name": "python3",
      "display_name": "Python 3"
    },
    "language_info": {
      "name": "python"
    }
  },
  "cells": [
    {
      "cell_type": "markdown",
      "source": [
        "## Summary of the code\n",
        "- All images are resized to 224×224 pixels\n",
        "- Images from the 'extracted_prs' folder are labeled as 'pr' and images from the 'extracted_oth' folder are labeled as 'other. This is handled by organising into sub directories in the test and train folder. The structure for the same is:\n",
        "train/pr/ ; train/other/\n",
        "test/pr/; test/other/\n",
        "- code randomly shuffles the images and splits them with 80% for training and 20% for testing\n",
        "- Error handling to skip problematic images"
      ],
      "metadata": {
        "id": "vfBeuDW6cXFn"
      }
    },
    {
      "cell_type": "code",
      "source": [
        "import os\n",
        "import random\n",
        "import shutil\n",
        "from PIL import Image\n",
        "import numpy as np\n",
        "from tqdm import tqdm\n",
        "\n",
        "# Define paths\n",
        "base_dir = '/content/drive/MyDrive/biotech/Retina_Lab/Image_data'\n",
        "pr_dir = os.path.join(base_dir, 'extracted_prs')\n",
        "other_dir = os.path.join(base_dir, 'extracted_oth')\n",
        "train_dir = os.path.join(base_dir, 'train')\n",
        "test_dir = os.path.join(base_dir, 'test')\n",
        "\n",
        "# Create necessary directories\n",
        "for directory in [train_dir, test_dir]:\n",
        "    if not os.path.exists(directory):\n",
        "        os.makedirs(directory)\n",
        "\n",
        "    # Create label subdirectories\n",
        "    pr_subdir = os.path.join(directory, 'pr')\n",
        "    other_subdir = os.path.join(directory, 'other')\n",
        "\n",
        "    if not os.path.exists(pr_subdir):\n",
        "        os.makedirs(pr_subdir)\n",
        "    if not os.path.exists(other_subdir):\n",
        "        os.makedirs(other_subdir)\n",
        "\n",
        "# Function to resize and process images\n",
        "def process_and_split_images(source_dir, label, target_size=(224, 224), train_ratio=0.8, seed=42):\n",
        "    \"\"\"\n",
        "    Resize images and split them into train and test sets\n",
        "\n",
        "    Args:\n",
        "        source_dir: Directory containing original images\n",
        "        label: Label for the images ('pr' or 'other')\n",
        "        target_size: Size to resize images to (default 224x224 for VGG16)\n",
        "        train_ratio: Proportion of images to use for training\n",
        "        seed: Random seed for reproducibility\n",
        "    \"\"\"\n",
        "    # Set random seed for reproducibility\n",
        "    random.seed(seed)\n",
        "\n",
        "    # Get all image files\n",
        "    valid_extensions = ('.png', '.jpg', '.jpeg', '.tif', '.tiff')\n",
        "    image_files = [f for f in os.listdir(source_dir) if f.lower().endswith(valid_extensions)]\n",
        "\n",
        "    if not image_files:\n",
        "        print(f\"Warning: No image files found in {source_dir}\")\n",
        "        return 0, 0\n",
        "\n",
        "    # Shuffle files for random split\n",
        "    random.shuffle(image_files)\n",
        "\n",
        "    # Calculate split point\n",
        "    split_idx = int(len(image_files) * train_ratio)\n",
        "\n",
        "    # Split into training and testing sets\n",
        "    train_files = image_files[:split_idx]\n",
        "    test_files = image_files[split_idx:]\n",
        "\n",
        "    print(f\"Processing {len(image_files)} {label} images: {len(train_files)} for training, {len(test_files)} for testing\")\n",
        "\n",
        "    # Function to process a single image\n",
        "    def process_image(img_file, destination_dir):\n",
        "        try:\n",
        "            img_path = os.path.join(source_dir, img_file)\n",
        "            img = Image.open(img_path)\n",
        "\n",
        "            # Convert to RGB if not already (VGG16 expects RGB)\n",
        "            if img.mode != 'RGB':\n",
        "                img = img.convert('RGB')\n",
        "\n",
        "            # Resize image\n",
        "            img = img.resize(target_size, Image.LANCZOS)\n",
        "\n",
        "            # Save to destination directory\n",
        "            target_path = os.path.join(destination_dir, img_file)\n",
        "            img.save(target_path)\n",
        "            return True\n",
        "        except Exception as e:\n",
        "            print(f\"Error processing {img_file}: {e}\")\n",
        "            return False\n",
        "\n",
        "    # Process training images\n",
        "    train_success = 0\n",
        "    for img_file in tqdm(train_files, desc=f\"Processing {label} training images\"):\n",
        "        if process_image(img_file, os.path.join(train_dir, label)):\n",
        "            train_success += 1\n",
        "\n",
        "    # Process testing images\n",
        "    test_success = 0\n",
        "    for img_file in tqdm(test_files, desc=f\"Processing {label} testing images\"):\n",
        "        if process_image(img_file, os.path.join(test_dir, label)):\n",
        "            test_success += 1\n",
        "\n",
        "    print(f\"Successfully processed {train_success}/{len(train_files)} training and {test_success}/{len(test_files)} testing {label} images\")\n",
        "\n",
        "    return train_success, test_success\n",
        "\n",
        "# Execute the main processing steps\n",
        "print(\"Starting image processing and dataset preparation...\")\n",
        "\n",
        "# Process PR images (labeled as 'pr')\n",
        "pr_train, pr_test = process_and_split_images(pr_dir, 'pr')\n",
        "\n",
        "# Process Other images (labeled as 'other')\n",
        "other_train, other_test = process_and_split_images(other_dir, 'other')\n",
        "\n",
        "# Print summary\n",
        "print(\"\\nDataset preparation complete!\")\n",
        "print(f\"Training set: {pr_train} 'pr' images, {other_train} 'other' images\")\n",
        "print(f\"Testing set: {pr_test} 'pr' images, {other_test} 'other' images\")\n",
        "\n"
      ],
      "metadata": {
        "colab": {
          "base_uri": "https://localhost:8080/"
        },
        "id": "a_5_XaVeaepd",
        "outputId": "c80cf45f-3a33-42ca-ec2d-e436e4db3dd4"
      },
      "execution_count": null,
      "outputs": [
        {
          "output_type": "stream",
          "name": "stdout",
          "text": [
            "Starting image processing and dataset preparation...\n",
            "Processing 1952 pr images: 1561 for training, 391 for testing\n"
          ]
        },
        {
          "output_type": "stream",
          "name": "stderr",
          "text": [
            "Processing pr training images: 100%|██████████| 1561/1561 [01:20<00:00, 19.30it/s]\n",
            "Processing pr testing images: 100%|██████████| 391/391 [00:11<00:00, 34.68it/s]\n"
          ]
        },
        {
          "output_type": "stream",
          "name": "stdout",
          "text": [
            "Successfully processed 1561/1561 training and 391/391 testing pr images\n",
            "Processing 805 other images: 644 for training, 161 for testing\n"
          ]
        },
        {
          "output_type": "stream",
          "name": "stderr",
          "text": [
            "Processing other training images: 100%|██████████| 644/644 [00:29<00:00, 21.56it/s]\n",
            "Processing other testing images: 100%|██████████| 161/161 [00:05<00:00, 29.32it/s]"
          ]
        },
        {
          "output_type": "stream",
          "name": "stdout",
          "text": [
            "Successfully processed 644/644 training and 161/161 testing other images\n",
            "\n",
            "Dataset preparation complete!\n",
            "Training set: 1561 'pr' images, 644 'other' images\n",
            "Testing set: 391 'pr' images, 161 'other' images\n"
          ]
        },
        {
          "output_type": "stream",
          "name": "stderr",
          "text": [
            "\n"
          ]
        }
      ]
    },
    {
      "cell_type": "code",
      "source": [],
      "metadata": {
        "id": "XaDajfGFaio5"
      },
      "execution_count": null,
      "outputs": []
    }
  ]
}