{
  "nbformat": 4,
  "nbformat_minor": 0,
  "metadata": {
    "colab": {
      "provenance": [],
      "gpuType": "T4"
    },
    "kernelspec": {
      "name": "python3",
      "display_name": "Python 3"
    },
    "language_info": {
      "name": "python"
    },
    "accelerator": "GPU"
  },
  "cells": [
    {
      "cell_type": "code",
      "execution_count": 17,
      "metadata": {
        "id": "QvX3tUmk9Dvd"
      },
      "outputs": [],
      "source": [
        "## imports and file paths\n",
        "import os\n",
        "import numpy as np\n",
        "from skimage import io, segmentation\n",
        "from PIL import Image\n",
        "import matplotlib.pyplot as plt\n",
        "from tqdm import tqdm\n",
        "import glob\n",
        "import cv2\n",
        "\n",
        "# ─── USER PARAMETERS ────────────────────────────────────────────────────────────\n",
        "DAPI_DIR = '/content/drive/MyDrive/biotech/Retina_Lab/VGG_next_level/dapi_img_seg'\n",
        "PKC_DIR = '/content/drive/MyDrive/biotech/Retina_Lab/VGG_next_level/pkc_img_seg'\n",
        "OUT_DIR = '/content/drive/MyDrive/biotech/Retina_Lab/VGG_next_level/extracted_rbcs'\n",
        "IMAGE_EXT = '.png'\n",
        "SEG_EXT = '_seg.npy'\n",
        "OVERLAP_THRESHOLD = 0.3  # Minimum IoU threshold for overlap\n",
        "NAME_TEMPLATE = 'rod_bipolar_{:04d}.png'\n",
        "OVERLAY_TMPL = '{}_overlay.png'\n",
        "# ─"
      ]
    },
    {
      "cell_type": "markdown",
      "source": [
        "## Calculate Intersection over Union"
      ],
      "metadata": {
        "id": "j-pzmpzv9YUK"
      }
    },
    {
      "cell_type": "code",
      "source": [
        "def calculate_iou(mask1, mask2):\n",
        "    \"\"\"\n",
        "    Calculate Intersection over Union (IoU) between two binary masks.\n",
        "\n",
        "    Args:\n",
        "        mask1: First binary mask\n",
        "        mask2: Second binary mask\n",
        "\n",
        "    Returns:\n",
        "        IoU value between 0 and 1\n",
        "    \"\"\"\n",
        "    # Ensure masks are boolean\n",
        "    mask1_bool = mask1.astype(bool)\n",
        "    mask2_bool = mask2.astype(bool)\n",
        "\n",
        "    # Calculate intersection and union\n",
        "    intersection = np.logical_and(mask1_bool, mask2_bool).sum()\n",
        "    union = np.logical_or(mask1_bool, mask2_bool).sum()\n",
        "\n",
        "    # Avoid division by zero\n",
        "    if union == 0:\n",
        "        return 0.0\n",
        "\n",
        "    iou = intersection / union\n",
        "    return iou"
      ],
      "metadata": {
        "id": "uylcL2cZ9RNb"
      },
      "execution_count": 18,
      "outputs": []
    },
    {
      "cell_type": "markdown",
      "source": [
        "## align images\n",
        "- fills the 'missing' space in the pkc images with zeros"
      ],
      "metadata": {
        "id": "Ih84OfhQ9fka"
      }
    },
    {
      "cell_type": "code",
      "source": [
        "def align_images(dapi_img, pkc_img, dapi_mask, pkc_mask):\n",
        "    \"\"\"\n",
        "    Align PKC image and mask to DAPI image dimensions.\n",
        "    DAPI images are 1024x1024, PKC images are 1024x(varying height).\n",
        "    Alignment is done by matching top corners.\n",
        "\n",
        "    Args:\n",
        "        dapi_img: DAPI image (1024x1024)\n",
        "        pkc_img: PKC image (1024xH where H varies)\n",
        "        dapi_mask: DAPI segmentation mask\n",
        "        pkc_mask: PKC segmentation mask\n",
        "\n",
        "    Returns:\n",
        "        Aligned PKC image and mask with same dimensions as DAPI\n",
        "    \"\"\"\n",
        "    dapi_height, dapi_width = dapi_img.shape[:2]\n",
        "    pkc_height, pkc_width = pkc_img.shape[:2]\n",
        "\n",
        "    # Create aligned versions with same size as DAPI\n",
        "    if len(dapi_img.shape) == 3:\n",
        "        aligned_pkc_img = np.zeros_like(dapi_img)\n",
        "    else:\n",
        "        aligned_pkc_img = np.zeros((dapi_height, dapi_width), dtype=dapi_img.dtype)\n",
        "\n",
        "    aligned_pkc_mask = np.zeros_like(dapi_mask)\n",
        "\n",
        "    # Copy PKC data to aligned arrays (top-left corner alignment)\n",
        "    copy_height = min(dapi_height, pkc_height)\n",
        "    copy_width = min(dapi_width, pkc_width)\n",
        "\n",
        "    if len(pkc_img.shape) == 3:\n",
        "        aligned_pkc_img[:copy_height, :copy_width] = pkc_img[:copy_height, :copy_width]\n",
        "    else:\n",
        "        aligned_pkc_img[:copy_height, :copy_width] = pkc_img[:copy_height, :copy_width]\n",
        "\n",
        "    aligned_pkc_mask[:copy_height, :copy_width] = pkc_mask[:copy_height, :copy_width]\n",
        "\n",
        "    return aligned_pkc_img, aligned_pkc_mask"
      ],
      "metadata": {
        "id": "xomCl2Cf9e5M"
      },
      "execution_count": 19,
      "outputs": []
    },
    {
      "cell_type": "markdown",
      "source": [
        "## Overlay Masks"
      ],
      "metadata": {
        "id": "JZMxpofe99gy"
      }
    },
    {
      "cell_type": "code",
      "source": [
        "def overlay_masks(dapi_mask, pkc_mask):\n",
        "    \"\"\"\n",
        "    Create an overlay of DAPI and PKC masks for visualization.\n",
        "\n",
        "    Args:\n",
        "        dapi_mask: DAPI segmentation mask\n",
        "        pkc_mask: PKC segmentation mask\n",
        "\n",
        "    Returns:\n",
        "        RGB overlay image\n",
        "    \"\"\"\n",
        "    # Create RGB overlay\n",
        "    overlay = np.zeros((*dapi_mask.shape, 3), dtype=np.uint8)\n",
        "\n",
        "    # DAPI in blue channel\n",
        "    overlay[:, :, 2] = (dapi_mask > 0) * 255\n",
        "\n",
        "    # PKC in green channel\n",
        "    overlay[:, :, 1] = (pkc_mask > 0) * 255\n",
        "\n",
        "    # Overlap in cyan (green + blue)\n",
        "    overlap_region = np.logical_and(dapi_mask > 0, pkc_mask > 0)\n",
        "    overlay[overlap_region] = [0, 255, 255]  # Cyan for overlap\n",
        "\n",
        "    return overlay"
      ],
      "metadata": {
        "id": "CQwOGmoa9ycX"
      },
      "execution_count": 20,
      "outputs": []
    },
    {
      "cell_type": "markdown",
      "source": [
        "## Find all matching files"
      ],
      "metadata": {
        "id": "gvtosBea-FnP"
      }
    },
    {
      "cell_type": "code",
      "source": [
        "def find_matching_files(dapi_dir, scgn_dir):\n",
        "    \"\"\"\n",
        "    Find matching DAPI and SCGN image files based on sample and slice identifiers.\n",
        "\n",
        "    Args:\n",
        "        dapi_dir: Directory containing DAPI images\n",
        "        scgn_dir: Directory containing SCGN images\n",
        "\n",
        "    Returns:\n",
        "        List of matching file pairs\n",
        "    \"\"\"\n",
        "    dapi_files = glob.glob(os.path.join(dapi_dir, f\"C1-*{IMAGE_EXT}\"))\n",
        "    scgn_files = glob.glob(os.path.join(scgn_dir, f\"C3-*{IMAGE_EXT}\"))\n",
        "\n",
        "    matching_pairs = []\n",
        "\n",
        "    for dapi_file in dapi_files:\n",
        "        # Extract sample and slice info from DAPI filename\n",
        "        dapi_basename = os.path.basename(dapi_file)\n",
        "        # Expected format: C1-C30000.png -> extract C30000\n",
        "        sample_slice = dapi_basename.replace('C1-', '').replace(IMAGE_EXT, '')\n",
        "\n",
        "        # Look for corresponding SCGN file\n",
        "        scgn_file = os.path.join(scgn_dir, f\"C2-{sample_slice}{IMAGE_EXT}\")\n",
        "\n",
        "        if os.path.exists(scgn_file):\n",
        "            matching_pairs.append((dapi_file, scgn_file))\n",
        "\n",
        "    return matching_pairs"
      ],
      "metadata": {
        "id": "oyAPew5L9_ql"
      },
      "execution_count": 21,
      "outputs": []
    },
    {
      "cell_type": "markdown",
      "source": [
        "## Extract all masks from seg data"
      ],
      "metadata": {
        "id": "13Co0l7X-L9W"
      }
    },
    {
      "cell_type": "code",
      "source": [
        "\n",
        "def extract_masks_from_seg(seg_data):\n",
        "    \"\"\"\n",
        "    Extract mask arrays from segmentation data structure.\n",
        "\n",
        "    Args:\n",
        "        seg_data: Raw segmentation data from .npy file\n",
        "\n",
        "    Returns:\n",
        "        Mask array or None if extraction fails\n",
        "    \"\"\"\n",
        "    try:\n",
        "        # Handle different data structures\n",
        "        if isinstance(seg_data, np.ndarray) and seg_data.dtype == 'object':\n",
        "            data = seg_data.item()\n",
        "        else:\n",
        "            data = seg_data\n",
        "\n",
        "        if isinstance(data, dict):\n",
        "            masks = data.get('masks', None)\n",
        "            if masks is None:\n",
        "                print(\"Warning: 'masks' key not found in segmentation data\")\n",
        "                return None\n",
        "        else:\n",
        "            # Assume the data itself is the mask\n",
        "            masks = data\n",
        "\n",
        "        return masks\n",
        "\n",
        "    except Exception as e:\n",
        "        print(f\"Error extracting masks: {e}\")\n",
        "        return None\n"
      ],
      "metadata": {
        "id": "z9nGrNG--H4b"
      },
      "execution_count": 22,
      "outputs": []
    },
    {
      "cell_type": "markdown",
      "source": [
        "## Main function\n",
        "- brings it all together"
      ],
      "metadata": {
        "id": "RRMuBrld-YEh"
      }
    },
    {
      "cell_type": "code",
      "source": [
        "def extract_rod_bipolar_cells():\n",
        "    \"\"\"\n",
        "    Main function to extract rod bipolar cells from DAPI and PKC image pairs.\n",
        "    \"\"\"\n",
        "    print(\"Starting rod bipolar cell extraction...\")\n",
        "\n",
        "    # Create output directory\n",
        "    os.makedirs(OUT_DIR, exist_ok=True)\n",
        "\n",
        "    # Find matching DAPI and PKC files\n",
        "    matching_pairs = find_matching_files(DAPI_DIR, PKC_DIR)\n",
        "    print(f\"Found {len(matching_pairs)} matching image pairs\")\n",
        "\n",
        "    if not matching_pairs:\n",
        "        print(\"No matching pairs found. Please check file naming convention and paths.\")\n",
        "        return\n",
        "\n",
        "    cell_counter = 0\n",
        "    total_overlaps = 0\n",
        "\n",
        "    for dapi_path, pkc_path in tqdm(matching_pairs, desc=\"Processing image pairs\"):\n",
        "        try:\n",
        "            # Load images\n",
        "            dapi_img = io.imread(dapi_path)\n",
        "            pkc_img = io.imread(pkc_path)\n",
        "\n",
        "            # Load corresponding segmentation files\n",
        "            dapi_base = os.path.splitext(dapi_path)[0]\n",
        "            pkc_base = os.path.splitext(pkc_path)[0]\n",
        "\n",
        "            dapi_seg_path = dapi_base + SEG_EXT\n",
        "            pkc_seg_path = pkc_base + SEG_EXT\n",
        "\n",
        "            if not os.path.exists(dapi_seg_path) or not os.path.exists(pkc_seg_path):\n",
        "                print(f\"Skipping {os.path.basename(dapi_path)}: missing segmentation files\")\n",
        "                continue\n",
        "\n",
        "            # Load segmentation data\n",
        "            dapi_seg_raw = np.load(dapi_seg_path, allow_pickle=True)\n",
        "            pkc_seg_raw = np.load(pkc_seg_path, allow_pickle=True)\n",
        "\n",
        "            # Extract masks from segmentation data\n",
        "            dapi_masks = extract_masks_from_seg(dapi_seg_raw)\n",
        "            pkc_masks = extract_masks_from_seg(pkc_seg_raw)\n",
        "\n",
        "            if dapi_masks is None or pkc_masks is None:\n",
        "                print(f\"Skipping {os.path.basename(dapi_path)}: could not extract masks\")\n",
        "                continue\n",
        "\n",
        "            # Align PKC image and mask to DAPI dimensions\n",
        "            aligned_pkc_img, aligned_pkc_masks = align_images(dapi_img, pkc_img, dapi_masks, pkc_masks)\n",
        "\n",
        "            # Create overlay for visualization\n",
        "            overlay = overlay_masks(dapi_masks, aligned_pkc_masks)\n",
        "            overlay_name = OVERLAY_TMPL.format(os.path.splitext(os.path.basename(dapi_path))[0])\n",
        "            io.imsave(os.path.join(OUT_DIR, overlay_name), overlay)\n",
        "\n",
        "            # Find overlapping regions\n",
        "            dapi_labels = np.unique(dapi_masks)[1:]  # Exclude background (0)\n",
        "            pkc_labels = np.unique(aligned_pkc_masks)[1:]  # Exclude background (0)\n",
        "\n",
        "            pair_overlaps = 0\n",
        "\n",
        "            for dapi_label in dapi_labels:\n",
        "                dapi_region = (dapi_masks == dapi_label)\n",
        "\n",
        "                for pkc_label in pkc_labels:\n",
        "                    pkc_region = (aligned_pkc_masks == pkc_label)\n",
        "\n",
        "                    # Calculate IoU between regions\n",
        "                    iou = calculate_iou(dapi_region, pkc_region)\n",
        "\n",
        "                    if iou >= OVERLAP_THRESHOLD:\n",
        "                        # Extract DAPI region (rod bipolar cell)\n",
        "                        cell_counter += 1\n",
        "                        pair_overlaps += 1\n",
        "\n",
        "                        # Get bounding box of DAPI region\n",
        "                        ys, xs = np.where(dapi_region)\n",
        "                        if len(ys) == 0 or len(xs) == 0:\n",
        "                            continue\n",
        "\n",
        "                        y0, x0 = ys.min(), xs.min()\n",
        "                        y1, x1 = ys.max() + 1, xs.max() + 1\n",
        "\n",
        "                        # Extract patch from DAPI image\n",
        "                        patch = dapi_img[y0:y1, x0:x1].copy()\n",
        "                        mask_crop = dapi_region[y0:y1, x0:x1]\n",
        "\n",
        "                        # Apply mask to patch\n",
        "                        if patch.ndim == 3:\n",
        "                            patch[~mask_crop] = 0\n",
        "                        else:\n",
        "                            patch = patch * mask_crop\n",
        "\n",
        "                        # Save extracted cell\n",
        "                        out_name = NAME_TEMPLATE.format(cell_counter)\n",
        "                        Image.fromarray(patch.astype(np.uint8)).save(os.path.join(OUT_DIR, out_name))\n",
        "\n",
        "                        print(f\"  Extracted cell {cell_counter} (IoU: {iou:.3f})\")\n",
        "\n",
        "            total_overlaps += pair_overlaps\n",
        "            print(f\"  Found {pair_overlaps} overlapping cells in {os.path.basename(dapi_path)}\")\n",
        "\n",
        "        except Exception as e:\n",
        "            print(f\"Error processing {os.path.basename(dapi_path)}: {e}\")\n",
        "            continue\n",
        "\n",
        "    print(f\"\\nExtraction complete!\")\n",
        "    print(f\"Total cells extracted: {cell_counter}\")\n",
        "    print(f\"Total overlapping regions found: {total_overlaps}\")\n"
      ],
      "metadata": {
        "id": "E_ETLbp1-Owz"
      },
      "execution_count": 23,
      "outputs": []
    },
    {
      "cell_type": "code",
      "source": [
        "# run\n",
        "extract_rod_bipolar_cells()"
      ],
      "metadata": {
        "colab": {
          "base_uri": "https://localhost:8080/"
        },
        "id": "5l10e3uO-dh9",
        "outputId": "6f0a94c2-7efa-4e4c-fa79-2886523fa270"
      },
      "execution_count": 24,
      "outputs": [
        {
          "output_type": "stream",
          "name": "stdout",
          "text": [
            "Starting rod bipolar cell extraction...\n",
            "Found 0 matching image pairs\n",
            "No matching pairs found. Please check file naming convention and paths.\n"
          ]
        }
      ]
    }
  ]
}